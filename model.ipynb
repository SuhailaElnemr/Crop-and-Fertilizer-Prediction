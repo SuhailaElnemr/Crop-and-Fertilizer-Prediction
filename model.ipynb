{
 "cells": [
  {
   "cell_type": "code",
   "execution_count": 5,
   "metadata": {},
   "outputs": [],
   "source": [
    "import pandas as pd\n",
    "from sklearn.metrics import accuracy_score\n",
    "from sklearn.model_selection import train_test_split\n",
    "from sklearn.preprocessing import StandardScaler\n",
    "from sklearn.metrics import mean_absolute_error\n",
    "from sklearn.ensemble import RandomForestClassifier\n"
   ]
  },
  {
   "cell_type": "code",
   "execution_count": 18,
   "metadata": {},
   "outputs": [
    {
     "data": {
      "text/html": [
       "<div>\n",
       "<style scoped>\n",
       "    .dataframe tbody tr th:only-of-type {\n",
       "        vertical-align: middle;\n",
       "    }\n",
       "\n",
       "    .dataframe tbody tr th {\n",
       "        vertical-align: top;\n",
       "    }\n",
       "\n",
       "    .dataframe thead th {\n",
       "        text-align: right;\n",
       "    }\n",
       "</style>\n",
       "<table border=\"1\" class=\"dataframe\">\n",
       "  <thead>\n",
       "    <tr style=\"text-align: right;\">\n",
       "      <th></th>\n",
       "      <th>Soil_color</th>\n",
       "      <th>Nitrogen</th>\n",
       "      <th>Phosphorus</th>\n",
       "      <th>Potassium</th>\n",
       "      <th>pH</th>\n",
       "      <th>Temperature</th>\n",
       "      <th>Crop</th>\n",
       "      <th>Fertilizer</th>\n",
       "    </tr>\n",
       "  </thead>\n",
       "  <tbody>\n",
       "    <tr>\n",
       "      <th>0</th>\n",
       "      <td>0</td>\n",
       "      <td>75</td>\n",
       "      <td>50</td>\n",
       "      <td>100</td>\n",
       "      <td>6.5</td>\n",
       "      <td>20</td>\n",
       "      <td>11</td>\n",
       "      <td>17</td>\n",
       "    </tr>\n",
       "    <tr>\n",
       "      <th>1</th>\n",
       "      <td>0</td>\n",
       "      <td>80</td>\n",
       "      <td>50</td>\n",
       "      <td>100</td>\n",
       "      <td>6.5</td>\n",
       "      <td>20</td>\n",
       "      <td>11</td>\n",
       "      <td>17</td>\n",
       "    </tr>\n",
       "    <tr>\n",
       "      <th>2</th>\n",
       "      <td>0</td>\n",
       "      <td>85</td>\n",
       "      <td>50</td>\n",
       "      <td>100</td>\n",
       "      <td>6.5</td>\n",
       "      <td>20</td>\n",
       "      <td>11</td>\n",
       "      <td>17</td>\n",
       "    </tr>\n",
       "    <tr>\n",
       "      <th>3</th>\n",
       "      <td>0</td>\n",
       "      <td>90</td>\n",
       "      <td>50</td>\n",
       "      <td>100</td>\n",
       "      <td>6.5</td>\n",
       "      <td>20</td>\n",
       "      <td>11</td>\n",
       "      <td>17</td>\n",
       "    </tr>\n",
       "    <tr>\n",
       "      <th>4</th>\n",
       "      <td>0</td>\n",
       "      <td>95</td>\n",
       "      <td>50</td>\n",
       "      <td>100</td>\n",
       "      <td>6.5</td>\n",
       "      <td>20</td>\n",
       "      <td>11</td>\n",
       "      <td>17</td>\n",
       "    </tr>\n",
       "  </tbody>\n",
       "</table>\n",
       "</div>"
      ],
      "text/plain": [
       "   Soil_color  Nitrogen  Phosphorus  Potassium   pH  Temperature  Crop  \\\n",
       "0           0        75          50        100  6.5           20    11   \n",
       "1           0        80          50        100  6.5           20    11   \n",
       "2           0        85          50        100  6.5           20    11   \n",
       "3           0        90          50        100  6.5           20    11   \n",
       "4           0        95          50        100  6.5           20    11   \n",
       "\n",
       "   Fertilizer  \n",
       "0          17  \n",
       "1          17  \n",
       "2          17  \n",
       "3          17  \n",
       "4          17  "
      ]
     },
     "execution_count": 18,
     "metadata": {},
     "output_type": "execute_result"
    }
   ],
   "source": [
    "data = pd.read_csv('data.csv')\n",
    "data.head()"
   ]
  },
  {
   "cell_type": "code",
   "execution_count": 19,
   "metadata": {},
   "outputs": [
    {
     "name": "stdout",
     "output_type": "stream",
     "text": [
      "   Soil_color  Nitrogen  Phosphorus  Potassium   pH  Temperature  Crop\n",
      "0           0        75          50        100  6.5           20    11\n",
      "1           0        80          50        100  6.5           20    11\n",
      "2           0        85          50        100  6.5           20    11\n",
      "3           0        90          50        100  6.5           20    11\n",
      "4           0        95          50        100  6.5           20    11 \n",
      "    Soil_color  Nitrogen  Phosphorus  Potassium   pH  Temperature\n",
      "0           0        75          50        100  6.5           20\n",
      "1           0        80          50        100  6.5           20\n",
      "2           0        85          50        100  6.5           20\n",
      "3           0        90          50        100  6.5           20\n",
      "4           0        95          50        100  6.5           20 \n",
      "\n"
     ]
    }
   ],
   "source": [
    "x1 = data.iloc[: , :-1]\n",
    "x2 = x1.iloc[: , :-1]\n",
    "y1 = data['Fertilizer']\n",
    "y2 = data['Crop']\n",
    "print(x1.head(), '\\n', x2.head() ,'\\n')"
   ]
  },
  {
   "cell_type": "code",
   "execution_count": 20,
   "metadata": {},
   "outputs": [],
   "source": [
    "x1_train , x1_test , y1_train , y1_test = train_test_split(x2 , y2 , test_size = 0.2 , random_state = 42)"
   ]
  },
  {
   "cell_type": "code",
   "execution_count": 21,
   "metadata": {},
   "outputs": [
    {
     "data": {
      "text/plain": [
       "0.9501661129568106"
      ]
     },
     "execution_count": 21,
     "metadata": {},
     "output_type": "execute_result"
    }
   ],
   "source": [
    "model = RandomForestClassifier(n_estimators=100, random_state=42)\n",
    "\n",
    "# train\n",
    "model.fit(x1_train , y1_train)\n",
    "\n",
    "# predict\n",
    "pred1 = model.predict(x1_test)\n",
    "\n",
    "score = accuracy_score(pred1 , y1_test)\n",
    "score"
   ]
  },
  {
   "cell_type": "code",
   "execution_count": 22,
   "metadata": {},
   "outputs": [],
   "source": [
    "x2_train , x2_test , y2_train , y2_test = train_test_split(x1 , y1 , test_size = 0.2 , random_state = 42)\n"
   ]
  },
  {
   "cell_type": "code",
   "execution_count": 23,
   "metadata": {},
   "outputs": [
    {
     "data": {
      "text/plain": [
       "0.9235880398671097"
      ]
     },
     "execution_count": 23,
     "metadata": {},
     "output_type": "execute_result"
    }
   ],
   "source": [
    "model2 = RandomForestClassifier(n_estimators=100, random_state=42)\n",
    "# train\n",
    "model2.fit(x2_train , y2_train)\n",
    "\n",
    "# predict\n",
    "pred2 = model2.predict(x2_test)\n",
    "\n",
    "score = accuracy_score(pred2 , y2_test)\n",
    "score"
   ]
  },
  {
   "cell_type": "code",
   "execution_count": 36,
   "metadata": {},
   "outputs": [
    {
     "data": {
      "text/plain": [
       "0"
      ]
     },
     "execution_count": 36,
     "metadata": {},
     "output_type": "execute_result"
    }
   ],
   "source": [
    "def soil (x):\n",
    "    soil_color = ['Black', 'Red', 'Medium Brown', 'Dark Brown', 'Light Brown',\n",
    "        'Reddish Brown']\n",
    "    x = str(x)\n",
    "    for inx , color in enumerate(soil_color) : \n",
    "        if x.lower() == color.lower() :\n",
    "            return(inx)\n",
    "\n",
    "s = soil('black')\n",
    "s  "
   ]
  },
  {
   "cell_type": "code",
   "execution_count": 48,
   "metadata": {},
   "outputs": [
    {
     "name": "stdout",
     "output_type": "stream",
     "text": [
      "0    1\n",
      "Name: Soil_color, dtype: int64\n",
      "Suggested Crop: Turmeric\n",
      "Suggested Fertilizer: 10:10:10 NPK\n"
     ]
    }
   ],
   "source": [
    "input_soil_color = input(\"Enter Soil Color: \")\n",
    "input_nitrogen = float(input(\"Enter Nitrogen level: \"))\n",
    "input_phosphorus = float(input(\"Enter Phosphorus level: \"))\n",
    "input_potassium = float(input(\"Enter Potassium level: \"))\n",
    "input_pH = float(input(\"Enter pH: \"))\n",
    "input_temperature = float(input(\"Enter Temperature: \"))\n",
    "\n",
    "new_input = pd.DataFrame({\n",
    "    'Soil_color': [input_soil_color],\n",
    "    'Nitrogen': [input_nitrogen],\n",
    "    'Phosphorus': [input_phosphorus],\n",
    "    'Potassium': [input_potassium],\n",
    "    'pH': [input_pH],\n",
    "    'Temperature': [input_temperature]\n",
    "})\n",
    "\n",
    "new_input['Soil_color'] = soil(new_input['Soil_color'][0])\n",
    "\n",
    "\n",
    "predicted_crop = model.predict(new_input)\n",
    "new_input['Crop'] = [predicted_crop]\n",
    "\n",
    "predicted_fertilizer = model2.predict(new_input)\n",
    "\n",
    "predicted_crop = crops(predicted_crop[0])\n",
    "predicted_fertilizer = fertilizers(predicted_fertilizer[0])\n",
    "\n",
    "print(f\"Suggested Crop: {predicted_crop}\")\n",
    "print(f\"Suggested Fertilizer: {predicted_fertilizer}\")"
   ]
  },
  {
   "cell_type": "code",
   "execution_count": 13,
   "metadata": {},
   "outputs": [],
   "source": [
    "def soil (x):\n",
    "    soil_color = ['Black', 'Red', 'Medium Brown', 'Dark Brown', 'Light Brown',\n",
    "        'Reddish Brown']\n",
    "    for inx , color in enumerate(soil_color) : \n",
    "        if x.lower() == color.lower() :\n",
    "            return(inx)\n",
    "            break"
   ]
  },
  {
   "cell_type": "code",
   "execution_count": 46,
   "metadata": {},
   "outputs": [],
   "source": [
    "def crops (x):\n",
    "    crops = ['Sugarcane', 'Jowar', 'Cotton', 'Rice', 'Wheat', 'Groundnut',\n",
    "       'Maize', 'Tur', 'Urad', 'Moong', 'Gram', 'Masoor', 'Soybean',\n",
    "       'Ginger', 'Turmeric', 'Grapes']\n",
    "    for inx , crop in enumerate(crops) : \n",
    "        if int(x) == inx :\n",
    "            return(crop)\n",
    "            break"
   ]
  },
  {
   "cell_type": "code",
   "execution_count": 47,
   "metadata": {},
   "outputs": [],
   "source": [
    "def fertilizers (x):\n",
    "    fertilizers = ['Urea', 'DAP', 'MOP', '10:26:26 NPK', 'SSP', 'Magnesium Sulphate',\n",
    "       '13:32:26 NPK', '12:32:16 NPK', '50:26:26 NPK', '19:19:19 NPK',\n",
    "       'Chilated Micronutrient', '18:46:00 NPK', 'Sulphur',\n",
    "       '20:20:20 NPK', 'Ammonium Sulphate', 'Ferrous Sulphate',\n",
    "       'White Potash', '10:10:10 NPK', 'Hydrated Lime']\n",
    "    for inx , f in enumerate(fertilizers) : \n",
    "        if int(x) == inx :\n",
    "            return(f)\n",
    "            break"
   ]
  }
 ],
 "metadata": {
  "kernelspec": {
   "display_name": "base",
   "language": "python",
   "name": "python3"
  },
  "language_info": {
   "codemirror_mode": {
    "name": "ipython",
    "version": 3
   },
   "file_extension": ".py",
   "mimetype": "text/x-python",
   "name": "python",
   "nbconvert_exporter": "python",
   "pygments_lexer": "ipython3",
   "version": "3.11.4"
  }
 },
 "nbformat": 4,
 "nbformat_minor": 2
}
